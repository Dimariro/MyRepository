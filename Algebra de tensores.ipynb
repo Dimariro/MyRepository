{
 "cells": [
  {
   "cell_type": "markdown",
   "metadata": {},
   "source": [
    "# Algebra de tensores"
   ]
  },
  {
   "cell_type": "markdown",
   "metadata": {},
   "source": [
    "Este taller busca presentar el concepto de tensores, sus tipo, formas y dimensión asi como su manipulación:\n",
    "\n",
    "![LRUrl](https://www.tensorflow.org/site-assets/images/marketing/partners/aisp_step1.svg)\n",
    "\n",
    "1. Importar paquetes o librerias\n",
    "2. Definición de tensor, ejemplos y visualización de su forma (shape)\n",
    "3. Definición técnica de tensores y visualización forma y tipo\n",
    "4. Operaciones algebraicas con tensores\n",
    "5. Pasar un tensor a un arreglo, ubicar una posición ó una rebanada específica\n",
    "6. Manipulación de su forma (shape)\n",
    "7. Aplanar un tensor\n",
    "8. Transmitir (Broadcasting)\n",
    "9. Tensores tipo irregulares (ragged)\n",
    "10. Tensor tipo cadena (string)\n",
    "11. Tensores tipo dispersos (sparse)"
   ]
  },
  {
   "cell_type": "markdown",
   "metadata": {},
   "source": [
    "#### Paso 1. Importar paquetes o librerias"
   ]
  },
  {
   "cell_type": "code",
   "execution_count": 26,
   "metadata": {},
   "outputs": [],
   "source": [
    "import tensorflow as tf\n",
    "import numpy as np"
   ]
  },
  {
   "cell_type": "markdown",
   "metadata": {},
   "source": [
    "#### Paso 2. Definición de tensor, ejemplos y visualización de su forma (shape)"
   ]
  },
  {
   "cell_type": "markdown",
   "metadata": {},
   "source": [
    "Los tensores son arreglos multidimensionales, en los que podemos trabajar con número scalares, vectores, matrices o arreglos de matrices, ubicados en diferentes composiciones. Las imágenes a continuación muestran alguno ejemplos:\n",
    "\n",
    "![LRUrl](https://www.tensorflow.org/guide/images/tensor/scalar.png)\n",
    "![LRUrl](https://www.tensorflow.org/guide/images/tensor/vector.png)\n",
    "![LRUrl](https://www.tensorflow.org/guide/images/tensor/matrix.png)\n",
    "![LRUrl](https://www.tensorflow.org/guide/images/tensor/3-axis_numpy.png)\n",
    "![LRUrl](https://www.tensorflow.org/guide/images/tensor/3-axis_front.png)\n",
    "![LRUrl](https://www.tensorflow.org/guide/images/tensor/3-axis_block.png)"
   ]
  },
  {
   "cell_type": "markdown",
   "metadata": {},
   "source": [
    "#### Paso 3. Definición técnica de tensores y visualización forma y tipo"
   ]
  },
  {
   "cell_type": "code",
   "execution_count": 27,
   "metadata": {},
   "outputs": [
    {
     "name": "stdout",
     "output_type": "stream",
     "text": [
      "Escalar:\n",
      " tf.Tensor(4, shape=(), dtype=int32) \n",
      "\n",
      "Vector: \n",
      " tf.Tensor([1 3 4], shape=(3,), dtype=int32) \n",
      "\n",
      "Matriz: \n",
      " tf.Tensor(\n",
      "[[1 2 3]\n",
      " [4 5 6]], shape=(2, 3), dtype=int32) \n",
      "\n",
      "Arreglo: \n",
      " tf.Tensor(\n",
      "[[[ 1  2  3  4  5]\n",
      "  [ 6  7  8  9 10]\n",
      "  [11 12 13 14 15]]\n",
      "\n",
      " [[16 17 18 19 20]\n",
      "  [21 22 23 24 25]\n",
      "  [26 27 28 29 30]]], shape=(2, 3, 5), dtype=int32) \n",
      "\n"
     ]
    }
   ],
   "source": [
    "# Escalar=tensor de orden 0\n",
    "t0 = tf.constant(4)\n",
    "print(\"Escalar:\\n\", t0, \"\\n\")\n",
    "\n",
    "#Vector = tensor de orden 1\n",
    "t1 = tf.constant([1, 3, 4])\n",
    "print(\"Vector: \\n\", t1, \"\\n\")\n",
    "\n",
    "#Matriz = tensor de orden 2 x 3\n",
    "t23 = tf.constant([[1, 2, 3],[4, 5, 6]])\n",
    "print(\"Matriz: \\n\", t23, \"\\n\")\n",
    "\n",
    "#Arreglo = tensor de orden 2x35\n",
    "t235 = tf.constant([[[1,2,3,4,5],[6,7,8,9,10],[11,12,13,14,15]],\n",
    "                    [[16,17,18,19,20],[21,22,23,24,25],[26,27,28,29,30]]])\n",
    "print(\"Arreglo: \\n\", t235, \"\\n\")"
   ]
  },
  {
   "cell_type": "markdown",
   "metadata": {},
   "source": [
    "#### Paso 4. Operaciones algebraicas con tensores"
   ]
  },
  {
   "cell_type": "code",
   "execution_count": 32,
   "metadata": {},
   "outputs": [
    {
     "name": "stdout",
     "output_type": "stream",
     "text": [
      "a: \n",
      " tf.Tensor(\n",
      "[[1 2]\n",
      " [3 4]], shape=(2, 2), dtype=int32) \n",
      "\n",
      "b: \n",
      " tf.Tensor(\n",
      "[[5 6]\n",
      " [7 8]], shape=(2, 2), dtype=int32) \n",
      "\n",
      "Mayor valor en a:\n",
      " tf.Tensor(4, shape=(), dtype=int32)\n",
      "Mayor indice en b:\n",
      " tf.Tensor([1 1], shape=(2,), dtype=int64)\n",
      "a+b: suma de digitos en la misma posición \n",
      " tf.Tensor(\n",
      "[[ 6  8]\n",
      " [10 12]], shape=(2, 2), dtype=int32) \n",
      "\n",
      "a*b: multiplcación de digitos en la misma posición \n",
      " tf.Tensor(\n",
      "[[ 5 12]\n",
      " [21 32]], shape=(2, 2), dtype=int32) \n",
      "\n",
      "a @ b: multiplicación de las dos matrices \n",
      " tf.Tensor(\n",
      "[[19 22]\n",
      " [43 50]], shape=(2, 2), dtype=int32) \n",
      "\n"
     ]
    }
   ],
   "source": [
    "a = tf.constant([[1,2],[3,4]])\n",
    "b = tf.constant([[5,6],[7,8]])\n",
    "\n",
    "print(\"a: \\n\",a,\"\\n\")\n",
    "print(\"b: \\n\",b,\"\\n\")\n",
    "print(\"Mayor valor en a:\\n\", tf.reduce_max(a))\n",
    "print(\"Mayor indice en b:\\n\", tf.argmax(b))\n",
    "print(\"a+b: suma de digitos en la misma posición \\n\",tf.add(a,b),\"\\n\")\n",
    "print(\"a*b: multiplcación de digitos en la misma posición \\n\", tf.multiply(a,b),\"\\n\")\n",
    "print(\"a @ b: multiplicación de las dos matrices \\n\",tf.matmul(a,b),\"\\n\")"
   ]
  },
  {
   "cell_type": "markdown",
   "metadata": {},
   "source": [
    "#### Paso 5. Pasar un tensor a un arreglo, ubicar una posición ó una rebanada específica"
   ]
  },
  {
   "cell_type": "markdown",
   "metadata": {},
   "source": [
    "##### 5.1 - Tensores con un solo eje"
   ]
  },
  {
   "cell_type": "code",
   "execution_count": 36,
   "metadata": {},
   "outputs": [
    {
     "name": "stdout",
     "output_type": "stream",
     "text": [
      "[ 0  1  1  2  3  5  8 13 21 34]\n"
     ]
    }
   ],
   "source": [
    "rank_1_tensor = tf.constant([0, 1, 1, 2, 3, 5, 8, 13, 21, 34])\n",
    "print(rank_1_tensor.numpy())"
   ]
  },
  {
   "cell_type": "code",
   "execution_count": 37,
   "metadata": {},
   "outputs": [
    {
     "name": "stdout",
     "output_type": "stream",
     "text": [
      "Primer número: 0\n",
      "Quinto número: 3\n",
      "Ultimo: 34\n"
     ]
    }
   ],
   "source": [
    "print(\"Primer número:\", rank_1_tensor[0].numpy())\n",
    "print(\"Quinto número:\", rank_1_tensor[4].numpy())\n",
    "print(\"Ultimo:\", rank_1_tensor[-1].numpy())"
   ]
  },
  {
   "cell_type": "code",
   "execution_count": 40,
   "metadata": {},
   "outputs": [
    {
     "name": "stdout",
     "output_type": "stream",
     "text": [
      "Todo: [ 0  1  1  2  3  5  8 13 21 34]\n",
      "Antes del 4to: [0 1 1 2]\n",
      "Del 4to en adelante: [ 3  5  8 13 21 34]\n",
      "Entre el 2do y el 7mo: [1 2 3 5 8]\n",
      "Saltando de a 2: [ 0  2  8 34]\n",
      "En el orden inverso: [34 21 13  8  5  3  2  1  1  0]\n"
     ]
    }
   ],
   "source": [
    "print(\"Todo:\", rank_1_tensor[:].numpy())\n",
    "print(\"Antes del 4to:\", rank_1_tensor[:4].numpy())\n",
    "print(\"Del 4to en adelante:\", rank_1_tensor[4:].numpy())\n",
    "print(\"Entre el 2do y el 7mo:\", rank_1_tensor[2:7].numpy())\n",
    "print(\"Saltando de a 3:\", rank_1_tensor[::3].numpy())\n",
    "print(\"En el orden inverso:\", rank_1_tensor[::-1].numpy())"
   ]
  },
  {
   "cell_type": "markdown",
   "metadata": {},
   "source": [
    "##### 5.2 Tensores con mas de un eje"
   ]
  },
  {
   "cell_type": "code",
   "execution_count": 42,
   "metadata": {},
   "outputs": [
    {
     "name": "stdout",
     "output_type": "stream",
     "text": [
      "[[1 2]\n",
      " [3 4]\n",
      " [5 6]]\n"
     ]
    }
   ],
   "source": [
    "rank_2_tensor = tf.constant([[1,2],[3,4], [5,6]])\n",
    "print(rank_2_tensor.numpy())"
   ]
  },
  {
   "cell_type": "code",
   "execution_count": 47,
   "metadata": {},
   "outputs": [
    {
     "name": "stdout",
     "output_type": "stream",
     "text": [
      "Mostrando el número en la posición 1, 1 : 4\n",
      "Mostrando la segunda fila: [3 4]\n",
      "Mostrando la segunda columna: [2 4 6]\n",
      "Última fila: [5 6]\n",
      "Primer número en la última columna: 2\n",
      "Saltando la primera fila:\n",
      "  [[3 4]\n",
      " [5 6]]\n"
     ]
    }
   ],
   "source": [
    "print(\"Mostrando el número en la posición 1, 1 :\", rank_2_tensor[1, 1].numpy())\n",
    "print(\"Mostrando la segunda fila:\", rank_2_tensor[1, :].numpy())\n",
    "print(\"Mostrando la segunda columna:\", rank_2_tensor[:, 1].numpy())\n",
    "print(\"Última fila:\", rank_2_tensor[-1, :].numpy())\n",
    "print(\"Primer número en la última columna:\", rank_2_tensor[0, -1].numpy())\n",
    "print(\"Saltando la primera fila:\\n \", rank_2_tensor[1:, :].numpy())"
   ]
  },
  {
   "cell_type": "markdown",
   "metadata": {},
   "source": [
    "#### Paso 6. Manipulación de su forma (shape)"
   ]
  },
  {
   "cell_type": "markdown",
   "metadata": {},
   "source": [
    "La forma de un tensor nos dice la longitud de cada uno de los ejes del tensor. En los ejemplos anteriores podemos confirmar esto. Es posible crear un tensor con varios ejes lleno de ceros, lo que nos permite ver sus propiedades:"
   ]
  },
  {
   "cell_type": "code",
   "execution_count": 35,
   "metadata": {},
   "outputs": [
    {
     "name": "stdout",
     "output_type": "stream",
     "text": [
      "Tipo de los elementos: <dtype: 'float32'>\n",
      "Numero de ejes: 4\n",
      "Forma del tensor: (3, 2, 4, 5)\n",
      "Elementos en el axis 0: 3\n",
      "Elementos en el ultimo eje del tensor: 5\n",
      "Numero total de elementos en el tensor (3*2*4*5):  120\n",
      "Tensor:\n",
      " tf.Tensor(\n",
      "[[[[0. 0. 0. 0. 0.]\n",
      "   [0. 0. 0. 0. 0.]\n",
      "   [0. 0. 0. 0. 0.]\n",
      "   [0. 0. 0. 0. 0.]]\n",
      "\n",
      "  [[0. 0. 0. 0. 0.]\n",
      "   [0. 0. 0. 0. 0.]\n",
      "   [0. 0. 0. 0. 0.]\n",
      "   [0. 0. 0. 0. 0.]]]\n",
      "\n",
      "\n",
      " [[[0. 0. 0. 0. 0.]\n",
      "   [0. 0. 0. 0. 0.]\n",
      "   [0. 0. 0. 0. 0.]\n",
      "   [0. 0. 0. 0. 0.]]\n",
      "\n",
      "  [[0. 0. 0. 0. 0.]\n",
      "   [0. 0. 0. 0. 0.]\n",
      "   [0. 0. 0. 0. 0.]\n",
      "   [0. 0. 0. 0. 0.]]]\n",
      "\n",
      "\n",
      " [[[0. 0. 0. 0. 0.]\n",
      "   [0. 0. 0. 0. 0.]\n",
      "   [0. 0. 0. 0. 0.]\n",
      "   [0. 0. 0. 0. 0.]]\n",
      "\n",
      "  [[0. 0. 0. 0. 0.]\n",
      "   [0. 0. 0. 0. 0.]\n",
      "   [0. 0. 0. 0. 0.]\n",
      "   [0. 0. 0. 0. 0.]]]], shape=(3, 2, 4, 5), dtype=float32)\n"
     ]
    }
   ],
   "source": [
    "#Tenso de 4 ejes llenos de 0\n",
    "rank_4_tensor = tf.zeros([3, 2, 4, 5])\n",
    "print(\"Tipo de los elementos:\", rank_4_tensor.dtype)\n",
    "print(\"Numero de ejes:\", rank_4_tensor.ndim)\n",
    "print(\"Forma del tensor:\", rank_4_tensor.shape)\n",
    "print(\"Elementos en el axis 0:\", rank_4_tensor.shape[0])\n",
    "print(\"Elementos en el ultimo eje del tensor:\", rank_4_tensor.shape[-1])\n",
    "print(\"Numero total de elementos en el tensor (3*2*4*5): \", tf.size(rank_4_tensor).numpy())\n",
    "print(\"Tensor:\\n\", rank_4_tensor)"
   ]
  },
  {
   "cell_type": "markdown",
   "metadata": {},
   "source": [
    "\n",
    "Ahora podemos cambiar su forma (Reshape) y evitar duplicar datos"
   ]
  },
  {
   "cell_type": "code",
   "execution_count": 54,
   "metadata": {},
   "outputs": [
    {
     "name": "stdout",
     "output_type": "stream",
     "text": [
      "(3, 2, 4, 5) dónde 3 x 2 x 4 x 5 = 120\n",
      "(1, 120) los mismos 120 pero en una sola fila\n"
     ]
    }
   ],
   "source": [
    "reshaped = tf.reshape(rank_4_tensor, [1, 120])\n",
    "print(rank_4_tensor.shape, \"dónde 3 x 2 x 4 x 5 = 120\")\n",
    "print(reshaped.shape, \"los mismos 120 pero en una sola fila\")"
   ]
  },
  {
   "cell_type": "markdown",
   "metadata": {},
   "source": [
    "#### Paso 7. Aplanar un tensor"
   ]
  },
  {
   "cell_type": "markdown",
   "metadata": {},
   "source": [
    "Al aplanar dar la forma que requieres, pero debes respetar el orden de los ejes, porque de lo contrario mezclas información, lo cual no es correcto. "
   ]
  },
  {
   "cell_type": "code",
   "execution_count": 58,
   "metadata": {},
   "outputs": [
    {
     "name": "stdout",
     "output_type": "stream",
     "text": [
      "Con -1 le pedimos que los ajuste a lo que mejor funcione, en este caso \n",
      " \n",
      " tf.Tensor(\n",
      "[0. 0. 0. 0. 0. 0. 0. 0. 0. 0. 0. 0. 0. 0. 0. 0. 0. 0. 0. 0. 0. 0. 0. 0.\n",
      " 0. 0. 0. 0. 0. 0. 0. 0. 0. 0. 0. 0. 0. 0. 0. 0. 0. 0. 0. 0. 0. 0. 0. 0.\n",
      " 0. 0. 0. 0. 0. 0. 0. 0. 0. 0. 0. 0. 0. 0. 0. 0. 0. 0. 0. 0. 0. 0. 0. 0.\n",
      " 0. 0. 0. 0. 0. 0. 0. 0. 0. 0. 0. 0. 0. 0. 0. 0. 0. 0. 0. 0. 0. 0. 0. 0.\n",
      " 0. 0. 0. 0. 0. 0. 0. 0. 0. 0. 0. 0. 0. 0. 0. 0. 0. 0. 0. 0. 0. 0. 0. 0.], shape=(120,), dtype=float32)\n"
     ]
    }
   ],
   "source": [
    "print(\"Con -1 le pedimos que los ajuste a lo que mejor funcione, en este caso \\n \\n\", tf.reshape(rank_4_tensor, [-1]))"
   ]
  },
  {
   "cell_type": "markdown",
   "metadata": {},
   "source": [
    "#### Paso 8. Transmitir (Broadcasting) "
   ]
  },
  {
   "cell_type": "markdown",
   "metadata": {},
   "source": [
    "Se requiere cuando trabajas con tensores de diferentes formas, uno mas pequeño que el otro, y requieres un calculo entre ellos."
   ]
  },
  {
   "cell_type": "code",
   "execution_count": 67,
   "metadata": {},
   "outputs": [
    {
     "name": "stdout",
     "output_type": "stream",
     "text": [
      "Multiplicar el tensor de 1 eje por 2 tf.Tensor([2 4 6], shape=(3,), dtype=int32)\n",
      "Lo mismo pero entre tensores de tamaño distinto, estos es broadcasting: tf.Tensor([2 4 6], shape=(3,), dtype=int32)\n"
     ]
    }
   ],
   "source": [
    "rank_1_tensor = tf.constant([1, 2, 3])\n",
    "rank_0_tensor = tf.constant(2)\n",
    "\n",
    "print(\"Multiplicar el tensor de 1 eje por 2\", tf.multiply(rank_1_tensor, 2))\n",
    "print(\"Lo mismo pero entre tensores de tamaño distinto, estos es broadcasting:\", rank_1_tensor * rank_0_tensor)"
   ]
  },
  {
   "cell_type": "code",
   "execution_count": 68,
   "metadata": {},
   "outputs": [
    {
     "name": "stdout",
     "output_type": "stream",
     "text": [
      "tf.Tensor(\n",
      "[[1]\n",
      " [2]\n",
      " [3]], shape=(3, 1), dtype=int32) \n",
      "\n",
      "tf.Tensor([1 2 3 4], shape=(4,), dtype=int32) \n",
      "\n",
      "Esto es broadcasting, porque el segundo solo tiene un eje y el primero 3: \n",
      " tf.Tensor(\n",
      "[[ 1  2  3  4]\n",
      " [ 2  4  6  8]\n",
      " [ 3  6  9 12]], shape=(3, 4), dtype=int32)\n"
     ]
    }
   ],
   "source": [
    "reshape_rank_1_tensor = tf.reshape(rank_1_tensor,[3,1])\n",
    "rank_1_tensor_2 = tf.range(1, 5)\n",
    "print(reshape_rank_1_tensor, \"\\n\")\n",
    "print(rank_1_tensor_2, \"\\n\")\n",
    "print(\"Esto es broadcasting, porque el segundo solo tiene un eje y el primero 3: \\n\", tf.multiply(reshape_rank_1_tensor, rank_1_tensor_2))"
   ]
  },
  {
   "cell_type": "markdown",
   "metadata": {},
   "source": [
    "#### Paso 9. Tensores tipo irregulares (ragged)"
   ]
  },
  {
   "cell_type": "markdown",
   "metadata": {},
   "source": [
    "Hasta aqui los tensores tenian formas completas, ahora veremos que no siempre es el caso."
   ]
  },
  {
   "cell_type": "code",
   "execution_count": 70,
   "metadata": {},
   "outputs": [
    {
     "name": "stdout",
     "output_type": "stream",
     "text": [
      "<tf.RaggedTensor [[0, 1, 2, 3], [4, 5], [6, 7, 8], [9]]>\n",
      "(4, None)\n"
     ]
    }
   ],
   "source": [
    "ragged_list = [\n",
    "    [0, 1, 2, 3],\n",
    "    [4, 5],\n",
    "    [6, 7, 8],\n",
    "    [9]]\n",
    "ragged_tensor = tf.ragged.constant(ragged_list)\n",
    "print(ragged_tensor)\n",
    "print(ragged_tensor.shape)"
   ]
  },
  {
   "cell_type": "markdown",
   "metadata": {},
   "source": [
    "#### Paso 10. Tensor tipo cadena (string)"
   ]
  },
  {
   "cell_type": "markdown",
   "metadata": {},
   "source": [
    "Los tensores no solo manejan números, también permite manejar cadenas de caracteres, estos tensores no marcan la longitud de los tensores."
   ]
  },
  {
   "cell_type": "code",
   "execution_count": 75,
   "metadata": {},
   "outputs": [
    {
     "name": "stdout",
     "output_type": "stream",
     "text": [
      "tf.Tensor(b'Perro de color capuchino', shape=(), dtype=string) \n",
      "\n",
      "tf.Tensor(\n",
      "[b'Perro de color capuchino' b'Gato de color amarillo'\n",
      " b'Paloma de color blanco'], shape=(3,), dtype=string)\n"
     ]
    }
   ],
   "source": [
    "scalar_string_tensor = tf.constant(\"Perro de color capuchino\")\n",
    "print(scalar_string_tensor, \"\\n\")\n",
    "\n",
    "tensor_of_strings = tf.constant([\"Perro de color capuchino\",\n",
    "                                 \"Gato de color amarillo\",\n",
    "                                 \"Paloma de color blanco\"])\n",
    "\n",
    "print(tensor_of_strings)"
   ]
  },
  {
   "cell_type": "markdown",
   "metadata": {},
   "source": [
    "#### Paso 11. Tesores tipo dispersos (sparse)"
   ]
  },
  {
   "cell_type": "markdown",
   "metadata": {},
   "source": [
    "No siempre tus datos van a estar completos y pueden estar dispersos, por lo que es posible manejar tensores completos, pero con los valores espaciados, para sto debes manejar indices, que delimitan donde van los números."
   ]
  },
  {
   "cell_type": "code",
   "execution_count": 79,
   "metadata": {},
   "outputs": [
    {
     "name": "stdout",
     "output_type": "stream",
     "text": [
      "Tensor de tamaño 3 x 4 con valores en la posición 0,0 y en la 1,2 \n",
      "\n",
      "tf.Tensor(\n",
      "[[1 0 0 0]\n",
      " [0 0 2 0]\n",
      " [0 0 0 0]], shape=(3, 4), dtype=int32)\n"
     ]
    }
   ],
   "source": [
    "sparse_tensor = tf.sparse.SparseTensor(indices=[[0, 0], [1, 2]], values=[1, 2], dense_shape=[3, 4])\n",
    "print(\"Tensor de tamaño 3 x 4 con valores en la posición 0,0 y en la 1,2 \\n\")\n",
    "print(tf.sparse.to_dense(sparse_tensor))"
   ]
  },
  {
   "cell_type": "markdown",
   "metadata": {},
   "source": [
    "\n",
    "Esto es lo que he aprendido de tensores, muy bonitos.\n",
    "\n"
   ]
  },
  {
   "cell_type": "code",
   "execution_count": null,
   "metadata": {},
   "outputs": [],
   "source": []
  }
 ],
 "metadata": {
  "kernelspec": {
   "display_name": "Python 3",
   "language": "python",
   "name": "python3"
  },
  "language_info": {
   "codemirror_mode": {
    "name": "ipython",
    "version": 3
   },
   "file_extension": ".py",
   "mimetype": "text/x-python",
   "name": "python",
   "nbconvert_exporter": "python",
   "pygments_lexer": "ipython3",
   "version": "3.8.5"
  }
 },
 "nbformat": 4,
 "nbformat_minor": 4
}
